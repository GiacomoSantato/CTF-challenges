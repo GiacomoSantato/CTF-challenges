{
 "cells": [
  {
   "cell_type": "code",
   "execution_count": null,
   "metadata": {},
   "outputs": [],
   "source": [
    "from Crypto.Util.number import bytes_to_long\n",
    "from random import randint\n",
    "\n",
    "#===== Ring setup =======\n",
    "n=2^9 #ring dim\n",
    "qc=2^22 #ctx mod\n",
    "qm=2^8 #ptx mod\n",
    "P=PolynomialRing(Integers(qc),'x')\n",
    "x=P.gen()\n",
    "Pq=P.quotient(x^n-1,'y')\n",
    "y=Pq.gen()\n",
    "\n",
    "\n",
    "#====== RLWE =======\n",
    "def gen_RLWE(m,s):\n",
    "    a=Pq.random_element()\n",
    "    mask= Pq.random_element()*(y-1)\n",
    "    e=sum([y^i*(randint(0,2^4)-2^3) for i in range(n)])\n",
    "    b=s*a+m+mask+qm*e\n",
    "    return(b,a)\n",
    "\n",
    "\n",
    "#====== Flag encryption =======\n",
    "pad = hex(bytes_to_long(b'ptm{N0t_4ll_R1n9s_4r3_G00d_4_RLWE!!}'))[2:]\n",
    "#pad = hex(bytes_to_long(b'ptm{???????????????????????????????}'))[2:]\n",
    "newpad = [pad[i:i+12] for i in range(0,len(pad),12)]\n",
    "RLWEs=[]\n",
    "for i in newpad:\n",
    "    s=Pq.random_element()\n",
    "    for j in [i[k:k+2] for k in range(0,len(i),2)]:\n",
    "        b,a=gen_RLWE(int(j,16),s)\n",
    "        RLWEs.append([b,a])\n",
    "        \n"
   ]
  },
  {
   "cell_type": "code",
   "execution_count": null,
   "metadata": {},
   "outputs": [],
   "source": [
    "#==== Attack =======\n",
    "from tqdm import tqdm\n",
    "from Crypto.Util.number import long_to_bytes\n",
    "\n",
    "\n",
    "def RLWE_to_LWE(b):\n",
    "    return(b.lift()(1))\n",
    "\n",
    "\n",
    "def LWE_dec(b,a,s):\n",
    "    return( mod(int(b-a*s),qm))\n",
    "\n",
    "#READ RLWEs from a file!!!\n",
    "\n",
    "res=[]\n",
    "LWEs=[[RLWE_to_LWE(poly) for poly in RLWE] for RLWE in RLWEs]\n",
    "same_key_samples=6\n",
    "for k in range(0,len(LWEs),same_key_samples):\n",
    "    sk_attempts,res_attempts=[],[]\n",
    "    for sk_attempt in tqdm(range(qc)):\n",
    "        res=[mod(b-sk_attempt*a,qc) for (b,a) in LWEs[k:k+6]]\n",
    "        absres=[[abs(int(x)),abs(int(x)-qc)] for x in res]\n",
    "        checks=[ min(x[0],x[1])<2^17 for x in absres]\n",
    "        if all(checks)==True: sk_attempts.append(sk_attempt)\n",
    "    if sk_attempts==[]:\n",
    "        print(\"ERROR\")\n",
    "        continue\n",
    "    for sk_attempt in sk_attempts:\n",
    "        res_attempts.append([long_to_bytes(int(LWE_dec(b,a,sk_attempt))) for (b,a) in LWEs[k:k+6]])\n",
    "    for R in res_attempts:\n",
    "        print(R)\n",
    "    res.append(res_attempts)"
   ]
  }
 ],
 "metadata": {
  "kernelspec": {
   "display_name": "SageMath 9.3",
   "language": "sage",
   "name": "sagemath"
  },
  "language_info": {
   "codemirror_mode": {
    "name": "ipython",
    "version": 3
   },
   "file_extension": ".py",
   "mimetype": "text/x-python",
   "name": "python",
   "nbconvert_exporter": "python",
   "pygments_lexer": "ipython3",
   "version": "3.7.10"
  }
 },
 "nbformat": 4,
 "nbformat_minor": 4
}
